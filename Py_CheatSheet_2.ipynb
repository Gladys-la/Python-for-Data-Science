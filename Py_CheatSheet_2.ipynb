{
 "cells": [
  {
   "cell_type": "markdown",
   "id": "e0adc4e8-c3ef-4e50-89e6-a496dafa5d59",
   "metadata": {},
   "source": [
    "# len() function"
   ]
  },
  {
   "cell_type": "code",
   "execution_count": 6,
   "id": "0f26bedf-13c3-4872-8f7b-3d86becdd1c7",
   "metadata": {},
   "outputs": [
    {
     "name": "stdout",
     "output_type": "stream",
     "text": [
      "# pet types: 3\n",
      "# pets: 2\n",
      "# pets: 1 ; # humans: 2\n"
     ]
    }
   ],
   "source": [
    "#Number of rows in a dataframe\n",
    "# list having different pet types\n",
    "lst_pet_types = [\"cat\", \"dog\", \"horse\"]\n",
    "# returns number of elements in the list\n",
    "c_pet_types = len(lst_pet_types)\n",
    "# prints 3\n",
    "print(f\"# pet types: {c_pet_types}\")\n",
    "# Using len() for dictionary\n",
    "dict_pets = {\"name\": \"dog\", \"age\": 2}\n",
    "# returns number of keys in the dictionary\n",
    "c_pets = len(dict_pets)\n",
    "# prints 2\n",
    "print(f\"# pets: {c_pets}\")\n",
    "dict_pets = {\"pets\": [{\"name\": \"dog\", \"age\": 2}, {\"name\": \"dog\", \"age\": 2}]}\n",
    "dict_p_h = {\"pets\": [{\"name\": \"dog\", \"age\": 2}, {\"name\": \"dog\", \"age\": 2}],\n",
    "           \"persons\": [{\"name\": \"ram\", \"age\": 12}, {\"name\": \"kumaran\", \"age\": 11}]}\n",
    "# returns number of keys in the dictionary\n",
    "c_pets, c_humans = len(dict_pets), len(dict_p_h)\n",
    "# prints 1\n",
    "print(f\"# pets: {c_pets} ; # humans: {c_humans}\")\n",
    "# get only keys from the dictionary"
   ]
  },
  {
   "cell_type": "code",
   "execution_count": 7,
   "id": "9a36a97f-a419-44bb-adea-bc69b4fb4e74",
   "metadata": {},
   "outputs": [
    {
     "name": "stdout",
     "output_type": "stream",
     "text": [
      "5\n"
     ]
    }
   ],
   "source": [
    "lst_boys= ['Danny','Walter','zack','zeus','John']\n",
    "no_of_boys= len(lst_boys)\n",
    "print(no_of_boys)"
   ]
  },
  {
   "cell_type": "code",
   "execution_count": 8,
   "id": "c4b3a730-3433-4cd4-ba01-e9aa2e856d68",
   "metadata": {},
   "outputs": [
    {
     "name": "stdout",
     "output_type": "stream",
     "text": [
      "1\n"
     ]
    }
   ],
   "source": [
    "lst_girls = {'stem_girls':[{'name':'Glad','age':15},{'name':'Beni','age':12}]}\n",
    "print(len(lst_girls))"
   ]
  },
  {
   "cell_type": "code",
   "execution_count": 12,
   "id": "a5fc674d-74ea-4998-a134-ceb277d6d5a5",
   "metadata": {},
   "outputs": [
    {
     "name": "stdout",
     "output_type": "stream",
     "text": [
      "2\n"
     ]
    }
   ],
   "source": [
    "lst_girl = {\n",
    "    'stem_girls': [\n",
    "        {'name': 'Glad', 'age': 15},\n",
    "        {'name': 'Beni', 'age': 12}\n",
    "    ],\n",
    "    'art_girls': {'name': 'Jessie', 'age': 12}\n",
    "}\n",
    "print(len(lst_girl))"
   ]
  },
  {
   "cell_type": "code",
   "execution_count": 15,
   "id": "cedb4905-115b-4f3b-833c-1f7abafec881",
   "metadata": {},
   "outputs": [
    {
     "name": "stdout",
     "output_type": "stream",
     "text": [
      "# keys: 2 | # values: 2\n",
      "keys: ['pets', 'persons'] | values: [[{'name': 'dog', 'age': 2}, {'name': 'dog', 'age': 2}], [{'name': 'ram', 'age': 12}, {'name': 'kumaran', 'age': 11}]]\n"
     ]
    }
   ],
   "source": [
    "dict_p_h = {\"pets\": [{\"name\": \"dog\", \"age\": 2}, {\"name\": \"dog\", \"age\": 2}],\n",
    "           \"persons\": [{\"name\": \"ram\", \"age\": 12}, {\"name\": \"kumaran\", \"age\": 11}]}\n",
    "lst_keys = [*dict_p_h]\n",
    "# get only values from the dictionary\n",
    "lst_values = [*dict_p_h.values()]\n",
    "# prints\n",
    "print(f\"# keys: {len(lst_keys)} | # values: {len(lst_values)}\")\n",
    "print(f\"keys: {lst_keys} | values: {lst_values}\")"
   ]
  },
  {
   "cell_type": "markdown",
   "id": "a00af76e-6fe0-4731-8f11-cb61f785e950",
   "metadata": {},
   "source": [
    "# Dataframe"
   ]
  },
  {
   "cell_type": "code",
   "execution_count": 17,
   "id": "8c7cd6e9-fec8-40ff-9c6f-3be399ff8602",
   "metadata": {},
   "outputs": [],
   "source": [
    "import pandas as pd"
   ]
  },
  {
   "cell_type": "code",
   "execution_count": 19,
   "id": "f3c32388-edb6-4e27-9a2d-2a621388a0ba",
   "metadata": {},
   "outputs": [
    {
     "name": "stdout",
     "output_type": "stream",
     "text": [
      "     name  age    category\n",
      "0    Glad   15  stem_girls\n",
      "1    Beni   12  stem_girls\n",
      "2  Jessie   12   art_girls\n"
     ]
    }
   ],
   "source": [
    "lst_girl = {\n",
    "    'stem_girls': [\n",
    "        {'name': 'Glad', 'age': 15},\n",
    "        {'name': 'Beni', 'age': 12}\n",
    "    ],\n",
    "    'art_girls': [{'name': 'Jessie', 'age': 12}]\n",
    "}\n",
    "\n",
    "# Restructure the data into a list of dictionaries\n",
    "data = []\n",
    "for category, girls in lst_girl.items():\n",
    "    for girl in girls:\n",
    "        girl['category'] = category  # Add a 'category' key to differentiate STEM girls from art girls\n",
    "        data.append(girl)\n",
    "\n",
    "# Create a DataFrame from the restructured data\n",
    "df = pd.DataFrame(data)\n",
    "\n",
    "print(df)"
   ]
  },
  {
   "cell_type": "markdown",
   "id": "98b484d9-2ee5-4375-bda1-fcc614e13713",
   "metadata": {},
   "source": [
    "# Rename Column"
   ]
  },
  {
   "cell_type": "code",
   "execution_count": 22,
   "id": "eafe40c8-ae9a-44a3-b539-b9a5b09530f3",
   "metadata": {},
   "outputs": [
    {
     "name": "stdout",
     "output_type": "stream",
     "text": [
      "        a   b           c\n",
      "0    Glad  15  stem_girls\n",
      "1    Beni  12  stem_girls\n",
      "2  Jessie  12   art_girls\n"
     ]
    }
   ],
   "source": [
    "df.columns = ['a', 'b','c']\n",
    "print(df)"
   ]
  },
  {
   "cell_type": "markdown",
   "id": "cd320c16-f0f6-4de0-bc18-639ae1fb2682",
   "metadata": {},
   "source": [
    "# Remove Column"
   ]
  },
  {
   "cell_type": "code",
   "execution_count": 24,
   "id": "802099df-a004-460e-9e60-4ae7e746d1d3",
   "metadata": {},
   "outputs": [
    {
     "name": "stdout",
     "output_type": "stream",
     "text": [
      "            c\n",
      "0  stem_girls\n",
      "1  stem_girls\n",
      "2   art_girls\n"
     ]
    }
   ],
   "source": [
    "df = df.drop(columns=['a', 'b'])\n",
    "print(df)"
   ]
  },
  {
   "cell_type": "markdown",
   "id": "5d228c77-f920-4279-9bb7-214bf1621919",
   "metadata": {},
   "source": [
    "# Strip()"
   ]
  },
  {
   "cell_type": "code",
   "execution_count": 25,
   "id": "23c16756-dba5-42f6-b0ae-7dbd81b77fbe",
   "metadata": {},
   "outputs": [
    {
     "name": "stdout",
     "output_type": "stream",
     "text": [
      "From weather report, Moscow is too cold most of the times\n"
     ]
    }
   ],
   "source": [
    "txt = \" \tMoscow \t\"\n",
    "str_clean = txt.strip()\n",
    "print(f\"From weather report, {str_clean} is too cold most of the times\")"
   ]
  },
  {
   "cell_type": "code",
   "execution_count": 32,
   "id": "48236d43-3d81-4c9e-a909-4bf1a92cc1db",
   "metadata": {},
   "outputs": [
    {
     "name": "stdout",
     "output_type": "stream",
     "text": [
      "Hey,Hey,Ted\n"
     ]
    }
   ],
   "source": [
    "Ted=\"  Hey,   \"\n",
    "ted = Ted.strip()\n",
    "print(f'Hey,{ted}Ted')"
   ]
  },
  {
   "cell_type": "markdown",
   "id": "5f7ee286-f9e5-4228-aad9-07d06c3533e4",
   "metadata": {},
   "source": [
    "# join() method on list"
   ]
  },
  {
   "cell_type": "code",
   "execution_count": 33,
   "id": "cbfdeafd-694c-4425-b232-63c17c69436b",
   "metadata": {},
   "outputs": [
    {
     "name": "stdout",
     "output_type": "stream",
     "text": [
      "rambo,dog,chennai\n"
     ]
    }
   ],
   "source": [
    "lst_items = ['rambo','dog','chennai']\n",
    "# joins elements of lst_items by delimiter ','\n",
    "str = ','.join(lst_items)\n",
    "# prints -> rambo,dog,chennai\n",
    "print(str)"
   ]
  },
  {
   "cell_type": "code",
   "execution_count": 35,
   "id": "596eed21-2cc9-42ce-a228-216261b557c1",
   "metadata": {},
   "outputs": [
    {
     "name": "stdout",
     "output_type": "stream",
     "text": [
      "Jessie and Anne and Eksimo and Shimo\n"
     ]
    }
   ],
   "source": [
    "girls = ['Jessie','Anne','Eksimo','Shimo']\n",
    "girl=' and '.join(girls)\n",
    "print(girl)"
   ]
  },
  {
   "cell_type": "code",
   "execution_count": null,
   "id": "bd161625-a3fb-4cac-bbb4-7f859e710b85",
   "metadata": {},
   "outputs": [],
   "source": []
  }
 ],
 "metadata": {
  "kernelspec": {
   "display_name": "Python 3 (ipykernel)",
   "language": "python",
   "name": "python3"
  },
  "language_info": {
   "codemirror_mode": {
    "name": "ipython",
    "version": 3
   },
   "file_extension": ".py",
   "mimetype": "text/x-python",
   "name": "python",
   "nbconvert_exporter": "python",
   "pygments_lexer": "ipython3",
   "version": "3.12.0"
  }
 },
 "nbformat": 4,
 "nbformat_minor": 5
}
