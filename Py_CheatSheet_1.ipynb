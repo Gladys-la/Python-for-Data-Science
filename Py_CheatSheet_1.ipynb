{
 "cells": [
  {
   "cell_type": "markdown",
   "id": "3354677a-582c-42f6-8235-cc793a88d0fc",
   "metadata": {},
   "source": [
    "# Libraries"
   ]
  },
  {
   "cell_type": "code",
   "execution_count": 4,
   "id": "88d32bcd-cdee-48f5-ae7c-307a21bd2b5b",
   "metadata": {},
   "outputs": [
    {
     "name": "stdout",
     "output_type": "stream",
     "text": [
      "Requirement already satisfied: matplotlib in c:\\users\\proventus\\appdata\\local\\programs\\python\\python312\\lib\\site-packages (3.8.4)\n",
      "Requirement already satisfied: contourpy>=1.0.1 in c:\\users\\proventus\\appdata\\local\\programs\\python\\python312\\lib\\site-packages (from matplotlib) (1.2.1)\n",
      "Requirement already satisfied: cycler>=0.10 in c:\\users\\proventus\\appdata\\local\\programs\\python\\python312\\lib\\site-packages (from matplotlib) (0.12.1)\n",
      "Requirement already satisfied: fonttools>=4.22.0 in c:\\users\\proventus\\appdata\\local\\programs\\python\\python312\\lib\\site-packages (from matplotlib) (4.51.0)\n",
      "Requirement already satisfied: kiwisolver>=1.3.1 in c:\\users\\proventus\\appdata\\local\\programs\\python\\python312\\lib\\site-packages (from matplotlib) (1.4.5)\n",
      "Requirement already satisfied: numpy>=1.21 in c:\\users\\proventus\\appdata\\local\\programs\\python\\python312\\lib\\site-packages (from matplotlib) (1.26.2)\n",
      "Requirement already satisfied: packaging>=20.0 in c:\\users\\proventus\\appdata\\local\\programs\\python\\python312\\lib\\site-packages (from matplotlib) (23.2)\n",
      "Requirement already satisfied: pillow>=8 in c:\\users\\proventus\\appdata\\local\\programs\\python\\python312\\lib\\site-packages (from matplotlib) (10.2.0)\n",
      "Requirement already satisfied: pyparsing>=2.3.1 in c:\\users\\proventus\\appdata\\local\\programs\\python\\python312\\lib\\site-packages (from matplotlib) (3.1.1)\n",
      "Requirement already satisfied: python-dateutil>=2.7 in c:\\users\\proventus\\appdata\\local\\programs\\python\\python312\\lib\\site-packages (from matplotlib) (2.8.2)\n",
      "Requirement already satisfied: six>=1.5 in c:\\users\\proventus\\appdata\\local\\programs\\python\\python312\\lib\\site-packages (from python-dateutil>=2.7->matplotlib) (1.16.0)\n"
     ]
    },
    {
     "name": "stderr",
     "output_type": "stream",
     "text": [
      "\n",
      "[notice] A new release of pip is available: 23.3.1 -> 24.0\n",
      "[notice] To update, run: python.exe -m pip install --upgrade pip\n"
     ]
    }
   ],
   "source": [
    "!pip install matplotlib"
   ]
  },
  {
   "cell_type": "code",
   "execution_count": 8,
   "id": "92d0090d-dad7-441b-ba06-69cd59f0f5e5",
   "metadata": {},
   "outputs": [],
   "source": [
    "import pandas as pd\n",
    "import traceback\n",
    "import numpy as np\n",
    "import matplotlib.pyplot as plt\n",
    "from requests import get\n",
    "import requests\n",
    "import os"
   ]
  },
  {
   "cell_type": "code",
   "execution_count": 31,
   "id": "2580a1a7-3c35-4434-8caf-4465113d00d0",
   "metadata": {},
   "outputs": [
    {
     "name": "stdout",
     "output_type": "stream",
     "text": [
      "Collecting tabulate\n",
      "  Downloading tabulate-0.9.0-py3-none-any.whl.metadata (34 kB)\n",
      "Downloading tabulate-0.9.0-py3-none-any.whl (35 kB)\n",
      "Installing collected packages: tabulate\n",
      "Successfully installed tabulate-0.9.0\n"
     ]
    },
    {
     "name": "stderr",
     "output_type": "stream",
     "text": [
      "\n",
      "[notice] A new release of pip is available: 23.3.1 -> 24.0\n",
      "[notice] To update, run: python.exe -m pip install --upgrade pip\n"
     ]
    }
   ],
   "source": [
    "!pip install tabulate"
   ]
  },
  {
   "cell_type": "code",
   "execution_count": 33,
   "id": "5494b478-793b-473c-b8f9-2a6719237ddd",
   "metadata": {},
   "outputs": [],
   "source": [
    "from tabulate import tabulate"
   ]
  },
  {
   "cell_type": "markdown",
   "id": "5d42d30a-9dcc-4148-b2b5-483521b521c7",
   "metadata": {},
   "source": [
    "# List"
   ]
  },
  {
   "cell_type": "code",
   "execution_count": 6,
   "id": "19796ecc-6cd8-47ba-8f69-cb008f0902e2",
   "metadata": {},
   "outputs": [
    {
     "name": "stdout",
     "output_type": "stream",
     "text": [
      "Bangalore\n",
      "Chennai\n",
      "SFO\n",
      "Beijing\n",
      "NYC\n",
      "yes\n"
     ]
    }
   ],
   "source": [
    "lst_names = []\n",
    "# list with some string values in it\n",
    "lst_cities = [\"Bangalore\", \"Chennai\", \"SFO\", \"Beijing\"]\n",
    "# append to existing list\n",
    "lst_cities.append(\"NYC\")\n",
    "# list with some integer values\n",
    "lst_age = [10, 20]\n",
    "# append an integer to the existing list\n",
    "lst_age.append(30)\n",
    "# iterate each value in a list\n",
    "for val in lst_cities:\n",
    " print(val)\n",
    "# check if a value exists in a list\n",
    "if \"SFO\" in lst_cities:\n",
    " print(\"yes\")\n",
    "else:\n",
    " print(\"no\")"
   ]
  },
  {
   "cell_type": "code",
   "execution_count": 16,
   "id": "dda3b445-a544-4696-bb03-825ffd82579e",
   "metadata": {},
   "outputs": [
    {
     "name": "stdout",
     "output_type": "stream",
     "text": [
      "['dog', 'cat', 'elephant', 'lion']\n"
     ]
    }
   ],
   "source": [
    "lst_animals = ['dog','cat','elephant','lion']\n",
    "print (lst_animals)"
   ]
  },
  {
   "cell_type": "code",
   "execution_count": 17,
   "id": "d3c3fcc9-a78c-4528-b82b-6fcfe0239d7e",
   "metadata": {},
   "outputs": [
    {
     "name": "stdout",
     "output_type": "stream",
     "text": [
      "dog\n",
      "cat\n",
      "elephant\n",
      "lion\n"
     ]
    }
   ],
   "source": [
    "for val in lst_animals:\n",
    "    print (val)"
   ]
  },
  {
   "cell_type": "code",
   "execution_count": 16,
   "id": "a9683e78-13e1-4746-9053-4d34606e171e",
   "metadata": {},
   "outputs": [
    {
     "name": "stdout",
     "output_type": "stream",
     "text": [
      "['dog', 'cat', 'elephant', 'lion']\n"
     ]
    }
   ],
   "source": [
    "lst_animals = ['dog','cat','elephant','lion']\n",
    "print (lst_animals)"
   ]
  },
  {
   "cell_type": "code",
   "execution_count": 22,
   "id": "a79f9859-226f-482d-bd1a-1b287a0baac3",
   "metadata": {},
   "outputs": [
    {
     "name": "stdout",
     "output_type": "stream",
     "text": [
      "dog\n",
      "cat\n",
      "elephant\n",
      "lion\n",
      "Tiger\n",
      "Tiger\n",
      "Tiger\n",
      "Horse\n",
      "Cow\n"
     ]
    }
   ],
   "source": [
    "lst_animals.append('Horse')\n",
    "lst_animals.append('Cow')\n",
    "for val in lst_animals:\n",
    "    print(val)"
   ]
  },
  {
   "cell_type": "code",
   "execution_count": 23,
   "id": "74032ac4-14e0-4b20-bc7b-04df06c3c93f",
   "metadata": {},
   "outputs": [
    {
     "name": "stdout",
     "output_type": "stream",
     "text": [
      "dog\n",
      "cat\n",
      "elephant\n",
      "lion\n",
      "Tiger\n",
      "Tiger\n",
      "Tiger\n",
      "Horse\n",
      "Cow\n",
      "Horse\n",
      "Cow\n"
     ]
    }
   ],
   "source": [
    "lst_animals.append('Horse')\n",
    "lst_animals.append('Cow')\n",
    "for val in lst_animals:\n",
    "    print(val)"
   ]
  },
  {
   "cell_type": "code",
   "execution_count": 30,
   "id": "3381fc7d-e291-4241-9db2-134584fdc725",
   "metadata": {},
   "outputs": [
    {
     "name": "stdout",
     "output_type": "stream",
     "text": [
      "['dog', 'cat', 'elephant', 'lion', 'Tiger', 'Tiger', 'Tiger', 'Horse', 'Cow', 'Horse', 'Cow']\n",
      "0 Cow\n",
      "1 Cow\n",
      "2 Cow\n",
      "3 Cow\n",
      "4 Cow\n",
      "5 Cow\n",
      "6 Cow\n",
      "7 Cow\n",
      "8 Cow\n",
      "9 Cow\n",
      "10 Cow\n"
     ]
    }
   ],
   "source": [
    "print(lst_animals)\n",
    "for i, value in enumerate(lst_animals):\n",
    "    print(i,val)"
   ]
  },
  {
   "cell_type": "code",
   "execution_count": 32,
   "id": "d8acecf3-51a1-44e7-adfa-3f492dd368a6",
   "metadata": {},
   "outputs": [
    {
     "name": "stdout",
     "output_type": "stream",
     "text": [
      "['dog', 'cat', 'elephant', 'lion', 'Tiger', 'Tiger', 'Tiger', 'Horse', 'Cow', 'Horse', 'Cow']\n",
      "0 dog\n",
      "1 cat\n",
      "2 elephant\n",
      "3 lion\n",
      "4 Tiger\n",
      "5 Tiger\n",
      "6 Tiger\n",
      "7 Horse\n",
      "8 Cow\n",
      "9 Horse\n",
      "10 Cow\n"
     ]
    }
   ],
   "source": [
    "print(lst_animals)\n",
    "for i, value in enumerate(lst_animals):\n",
    "    print(i,value)"
   ]
  },
  {
   "cell_type": "code",
   "execution_count": 9,
   "id": "7027b5d0-0d9e-4929-8c20-982f3b4c7c85",
   "metadata": {},
   "outputs": [
    {
     "name": "stdout",
     "output_type": "stream",
     "text": [
      "At index 0, the value in the list is dog\n",
      "At index 1, the value in the list is cat\n"
     ]
    }
   ],
   "source": [
    "lst_pets = [\"dog\", \"cat\"]\n",
    "for i, value in enumerate(lst_pets):\n",
    " print(f\"At index {i}, the value in the list is {value}\")"
   ]
  },
  {
   "cell_type": "code",
   "execution_count": 51,
   "id": "100343e6-f2c0-4e88-952b-0d3c3fcc790e",
   "metadata": {},
   "outputs": [
    {
     "name": "stdout",
     "output_type": "stream",
     "text": [
      "<class 'list'>\n"
     ]
    }
   ],
   "source": [
    "print(type(lst_pets))"
   ]
  },
  {
   "cell_type": "markdown",
   "id": "824f92b1-5a20-426f-91e5-6a4cfb4e1fa3",
   "metadata": {},
   "source": [
    "# Set"
   ]
  },
  {
   "cell_type": "code",
   "execution_count": 42,
   "id": "88c3865a-04de-469d-bc13-54080eafa6a8",
   "metadata": {},
   "outputs": [
    {
     "name": "stdout",
     "output_type": "stream",
     "text": [
      "{'Beijing', 'Chennai', 'Bangalore', 'SFO'}\n",
      "[10, 20]\n"
     ]
    }
   ],
   "source": [
    "# empty set\n",
    "set_names = ()\n",
    "# Set with some string values in it\n",
    "set_cities ={\"Bangalore\", \"Chennai\", \"SFO\", \"Beijing\"}\n",
    "# list with some integer values\n",
    "set_age = [10, 20]\n",
    "print(set_cities)\n",
    "print(set_age)"
   ]
  },
  {
   "cell_type": "code",
   "execution_count": 35,
   "id": "acc4916d-f5ee-4d85-bdd0-8023df2b9e20",
   "metadata": {},
   "outputs": [
    {
     "name": "stdout",
     "output_type": "stream",
     "text": [
      "{'o', 'd', 'g'}\n"
     ]
    }
   ],
   "source": [
    "set_names = set(\"dog\") \n",
    "print(set_names)\n"
   ]
  },
  {
   "cell_type": "code",
   "execution_count": 43,
   "id": "540fc96e-af56-4095-8fd6-7c3af3b0b34f",
   "metadata": {},
   "outputs": [
    {
     "name": "stdout",
     "output_type": "stream",
     "text": [
      "{'apple', 'banana', 'orange'}\n",
      "True\n",
      "apple\n",
      "banana\n",
      "orange\n"
     ]
    }
   ],
   "source": [
    "string_set = {\"apple\", \"banana\", \"orange\"}\n",
    "string_set.add(\"apple\")\n",
    "print(string_set)\n",
    "print(\"banana\" in string_set)  # Output: True\n",
    "\n",
    "# Iterate over the elements of the set\n",
    "for fruit in string_set:\n",
    "    print(fruit)\n"
   ]
  },
  {
   "cell_type": "code",
   "execution_count": 44,
   "id": "27ddc887-5378-4118-9c10-87d67f0179a9",
   "metadata": {},
   "outputs": [
    {
     "name": "stdout",
     "output_type": "stream",
     "text": [
      "{'mango', 'apple', 'banana', 'orange'}\n"
     ]
    }
   ],
   "source": [
    "string_set.add('mango')\n",
    "print(string_set)"
   ]
  },
  {
   "cell_type": "code",
   "execution_count": 36,
   "id": "dcdc27b5-bf79-4361-a784-fc21459b9f2a",
   "metadata": {},
   "outputs": [],
   "source": [
    "set1 = {1, 2, 3}\n",
    "set2 = {3, 4, 5}\n",
    "\n",
    "union_set = set1 | set2  # {1, 2, 3, 4, 5}\n",
    "intersection_set = set1 & set2  # {3}\n",
    "difference_set = set1 - set2  # {1, 2}\n",
    "symmetric_difference_set = set1 ^ set2  "
   ]
  },
  {
   "cell_type": "code",
   "execution_count": 37,
   "id": "4306958b-3ed1-412c-aedc-8d41464d9b7a",
   "metadata": {},
   "outputs": [
    {
     "name": "stdout",
     "output_type": "stream",
     "text": [
      "{1, 2, 3, 4, 5} {3}\n"
     ]
    }
   ],
   "source": [
    "print(union_set,intersection_set)"
   ]
  },
  {
   "cell_type": "code",
   "execution_count": 50,
   "id": "96c61d9c-b7bc-403d-a948-f754992130df",
   "metadata": {},
   "outputs": [
    {
     "name": "stdout",
     "output_type": "stream",
     "text": [
      "<class 'set'>\n",
      "<class 'set'>\n"
     ]
    }
   ],
   "source": [
    "print(type(set1))\n",
    "print(type(string_set))"
   ]
  },
  {
   "cell_type": "markdown",
   "id": "9f82cfbc-5dbd-4e6e-aa8f-aeff8e4493bf",
   "metadata": {},
   "source": [
    "# Dictionary"
   ]
  },
  {
   "cell_type": "code",
   "execution_count": 12,
   "id": "60bb096a-ed7d-48b6-8292-d8bd84587f7c",
   "metadata": {},
   "outputs": [],
   "source": [
    "# declare dictionary\n",
    "dict_data = {}\n",
    "# insert a empty list into the dictionary\n",
    "dict_data['pet'] = []\n",
    "# append/add a list of dict to the list\n",
    "dict_data['pet'].append({\n",
    "   'name': 'Dog',\n",
    "   'website': 'dog.com',\n",
    "   'from': 'San Francisco'\n",
    "})\n",
    "dict_data['pet'].append({\n",
    "   'name': 'Cat',\n",
    "   'website': 'hellokitty.com',\n",
    "   'from': 'Seattle'\n",
    "})"
   ]
  },
  {
   "cell_type": "code",
   "execution_count": 13,
   "id": "54fcee67-2f9f-4af4-a59a-156408be1c9f",
   "metadata": {},
   "outputs": [
    {
     "name": "stdout",
     "output_type": "stream",
     "text": [
      "pet :  [{'name': 'Dog', 'website': 'dog.com', 'from': 'San Francisco'}, {'name': 'Cat', 'website': 'hellokitty.com', 'from': 'Seattle'}]\n"
     ]
    }
   ],
   "source": [
    "for key, value in dict_data.items():\n",
    "    print(key, \": \", value)"
   ]
  },
  {
   "cell_type": "code",
   "execution_count": 15,
   "id": "0f4cd576-b760-42ab-a415-8a4227b1a6f0",
   "metadata": {},
   "outputs": [
    {
     "name": "stdout",
     "output_type": "stream",
     "text": [
      "{\n",
      "    \"pet\": [\n",
      "        {\n",
      "            \"name\": \"Dog\",\n",
      "            \"website\": \"dog.com\",\n",
      "            \"from\": \"San Francisco\"\n",
      "        },\n",
      "        {\n",
      "            \"name\": \"Cat\",\n",
      "            \"website\": \"hellokitty.com\",\n",
      "            \"from\": \"Seattle\"\n",
      "        }\n",
      "    ]\n",
      "}\n"
     ]
    }
   ],
   "source": [
    "import json\n",
    "\n",
    "print(json.dumps(dict_data, indent=4))"
   ]
  },
  {
   "cell_type": "code",
   "execution_count": 52,
   "id": "51470822-2993-484a-8f15-57d5040104f0",
   "metadata": {},
   "outputs": [
    {
     "name": "stdout",
     "output_type": "stream",
     "text": [
      "{'sub': 'physics', 'topic': 'quantum', 'level': 'easy'}\n",
      "<class 'dict'>\n"
     ]
    }
   ],
   "source": [
    "dict_la ={'sub':'physics','topic':'quantum','level':'easy'}\n",
    "print(dict_la)\n",
    "print(type(dict_la))"
   ]
  },
  {
   "cell_type": "code",
   "execution_count": 53,
   "id": "206a08c0-fef2-4954-9073-435e291ed582",
   "metadata": {},
   "outputs": [
    {
     "name": "stdout",
     "output_type": "stream",
     "text": [
      "physics\n"
     ]
    }
   ],
   "source": [
    "print(dict_la['sub'])"
   ]
  },
  {
   "cell_type": "code",
   "execution_count": 54,
   "id": "20d8f08b-5891-4f73-bb40-5391e6c88187",
   "metadata": {},
   "outputs": [
    {
     "name": "stdout",
     "output_type": "stream",
     "text": [
      "physics\n",
      "quantum\n",
      "easy\n"
     ]
    }
   ],
   "source": [
    "for key, value in dict_la.items():\n",
    "    print(value)"
   ]
  },
  {
   "cell_type": "code",
   "execution_count": 55,
   "id": "62aa33c1-d265-4640-b5da-47d71d3a7453",
   "metadata": {},
   "outputs": [
    {
     "name": "stdout",
     "output_type": "stream",
     "text": [
      "level : easy\n"
     ]
    }
   ],
   "source": [
    "print(key,':',value)"
   ]
  },
  {
   "cell_type": "code",
   "execution_count": 57,
   "id": "90f91d66-edf1-4ed2-b9b1-d041fe396115",
   "metadata": {},
   "outputs": [
    {
     "name": "stdout",
     "output_type": "stream",
     "text": [
      "sub : physics\n",
      "topic : quantum\n",
      "level : easy\n"
     ]
    }
   ],
   "source": [
    "for key, value in dict_la.items():\n",
    "    print(key,':',value)"
   ]
  },
  {
   "cell_type": "code",
   "execution_count": 58,
   "id": "5d0800c9-b6ac-4e20-8bb7-0205b6171d20",
   "metadata": {},
   "outputs": [
    {
     "name": "stdout",
     "output_type": "stream",
     "text": [
      "{\"sub\": \"physics\", \"topic\": \"quantum\", \"level\": \"easy\"}\n"
     ]
    }
   ],
   "source": [
    "print(json.dumps(dict_la))"
   ]
  },
  {
   "cell_type": "code",
   "execution_count": null,
   "id": "12891d18-c270-4cb3-a0d6-b3a6649dcb2a",
   "metadata": {},
   "outputs": [],
   "source": []
  }
 ],
 "metadata": {
  "kernelspec": {
   "display_name": "Python 3 (ipykernel)",
   "language": "python",
   "name": "python3"
  },
  "language_info": {
   "codemirror_mode": {
    "name": "ipython",
    "version": 3
   },
   "file_extension": ".py",
   "mimetype": "text/x-python",
   "name": "python",
   "nbconvert_exporter": "python",
   "pygments_lexer": "ipython3",
   "version": "3.12.0"
  }
 },
 "nbformat": 4,
 "nbformat_minor": 5
}
