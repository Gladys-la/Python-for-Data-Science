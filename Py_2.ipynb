{
 "cells": [
  {
   "cell_type": "markdown",
   "id": "3c437832-088f-44b3-b3d7-e857ee5417bc",
   "metadata": {},
   "source": [
    "# Functions"
   ]
  },
  {
   "cell_type": "markdown",
   "id": "7563b650-6b6e-49e4-8a20-2e9b043d8caf",
   "metadata": {},
   "source": [
    "# round()"
   ]
  },
  {
   "cell_type": "code",
   "execution_count": 3,
   "id": "98908ff0-09d9-4ef2-b339-63c03842749e",
   "metadata": {},
   "outputs": [
    {
     "name": "stdout",
     "output_type": "stream",
     "text": [
      "79894\n"
     ]
    }
   ],
   "source": [
    "a=79893.8587\n",
    "print(round(a))"
   ]
  },
  {
   "cell_type": "code",
   "execution_count": 4,
   "id": "e549cf0f-16c9-4ac1-872d-a489ccae1352",
   "metadata": {},
   "outputs": [
    {
     "name": "stdout",
     "output_type": "stream",
     "text": [
      "6\n"
     ]
    }
   ],
   "source": [
    "print(round(6.434))"
   ]
  },
  {
   "cell_type": "markdown",
   "id": "9fe8c7f9-769b-45df-8a52-a142d316cf9a",
   "metadata": {},
   "source": [
    "# divmod()"
   ]
  },
  {
   "cell_type": "code",
   "execution_count": 5,
   "id": "35140f52-579a-4230-bd84-905dc20838e2",
   "metadata": {},
   "outputs": [
    {
     "name": "stdout",
     "output_type": "stream",
     "text": [
      "(5, 1)\n"
     ]
    }
   ],
   "source": [
    "print(divmod(26,5))"
   ]
  },
  {
   "cell_type": "code",
   "execution_count": 6,
   "id": "c4cf6473-8bc8-4a16-8122-ebfd4ef892c2",
   "metadata": {},
   "outputs": [
    {
     "name": "stdout",
     "output_type": "stream",
     "text": [
      "(6, 57)\n"
     ]
    }
   ],
   "source": [
    "print(divmod(567,85))"
   ]
  },
  {
   "cell_type": "code",
   "execution_count": 7,
   "id": "8d5c2469-510d-40aa-a3cf-e3256d26f1b2",
   "metadata": {},
   "outputs": [
    {
     "data": {
      "text/plain": [
       "tuple"
      ]
     },
     "execution_count": 7,
     "metadata": {},
     "output_type": "execute_result"
    }
   ],
   "source": [
    "g=divmod(4,3)\n",
    "type(g)"
   ]
  },
  {
   "cell_type": "code",
   "execution_count": 8,
   "id": "cb6372ab-971d-4975-a736-af041b0e25c3",
   "metadata": {},
   "outputs": [
    {
     "data": {
      "text/plain": [
       "1"
      ]
     },
     "execution_count": 8,
     "metadata": {},
     "output_type": "execute_result"
    }
   ],
   "source": [
    "g[0]"
   ]
  },
  {
   "cell_type": "markdown",
   "id": "f76d5791-1f07-4460-a365-964d6fdb6de8",
   "metadata": {},
   "source": [
    "# isinstance()"
   ]
  },
  {
   "cell_type": "code",
   "execution_count": 9,
   "id": "0c284238-32fe-4658-bb7e-b34eeeaded55",
   "metadata": {},
   "outputs": [
    {
     "data": {
      "text/plain": [
       "True"
      ]
     },
     "execution_count": 9,
     "metadata": {},
     "output_type": "execute_result"
    }
   ],
   "source": [
    "isinstance(2.455,float)"
   ]
  },
  {
   "cell_type": "code",
   "execution_count": 10,
   "id": "242d1980-4778-46be-960f-62f0eb0de8bf",
   "metadata": {},
   "outputs": [
    {
     "data": {
      "text/plain": [
       "True"
      ]
     },
     "execution_count": 10,
     "metadata": {},
     "output_type": "execute_result"
    }
   ],
   "source": [
    "a=12\n",
    "isinstance(a,int)"
   ]
  },
  {
   "cell_type": "code",
   "execution_count": 15,
   "id": "ddbb26ad-8ee5-4387-87fd-7029dbd19bf5",
   "metadata": {},
   "outputs": [
    {
     "data": {
      "text/plain": [
       "True"
      ]
     },
     "execution_count": 15,
     "metadata": {},
     "output_type": "execute_result"
    }
   ],
   "source": [
    "isinstance(3+2j,(float,int,complex))"
   ]
  },
  {
   "cell_type": "code",
   "execution_count": 14,
   "id": "4dc180c2-30a7-4332-bde4-e936564944b4",
   "metadata": {},
   "outputs": [
    {
     "data": {
      "text/plain": [
       "complex"
      ]
     },
     "execution_count": 14,
     "metadata": {},
     "output_type": "execute_result"
    }
   ],
   "source": [
    "type(3+2j)"
   ]
  },
  {
   "cell_type": "markdown",
   "id": "15188b19-d561-4de0-9bf0-5ae70fbd2346",
   "metadata": {},
   "source": [
    "# pow()"
   ]
  },
  {
   "cell_type": "code",
   "execution_count": 16,
   "id": "4bc3d933-a20a-45eb-bf6c-e09f19dbd1da",
   "metadata": {},
   "outputs": [
    {
     "data": {
      "text/plain": [
       "128"
      ]
     },
     "execution_count": 16,
     "metadata": {},
     "output_type": "execute_result"
    }
   ],
   "source": [
    "pow(2,7)"
   ]
  },
  {
   "cell_type": "code",
   "execution_count": 17,
   "id": "7e6dc028-4fd9-4bed-9532-f58ffd843c5a",
   "metadata": {},
   "outputs": [
    {
     "data": {
      "text/plain": [
       "0"
      ]
     },
     "execution_count": 17,
     "metadata": {},
     "output_type": "execute_result"
    }
   ],
   "source": [
    "pow(2,7,2)"
   ]
  },
  {
   "cell_type": "code",
   "execution_count": 18,
   "id": "f4c91134-f46d-44fb-a5f3-c935817e0aad",
   "metadata": {},
   "outputs": [
    {
     "data": {
      "text/plain": [
       "3"
      ]
     },
     "execution_count": 18,
     "metadata": {},
     "output_type": "execute_result"
    }
   ],
   "source": [
    "pow(2,7,5)"
   ]
  },
  {
   "cell_type": "markdown",
   "id": "135a8d17-503a-4c8b-9a70-ac6235751307",
   "metadata": {},
   "source": [
    "# input()"
   ]
  },
  {
   "cell_type": "code",
   "execution_count": 19,
   "id": "62e01a33-8dd4-4682-8d85-ec236e7a83b2",
   "metadata": {},
   "outputs": [
    {
     "name": "stdin",
     "output_type": "stream",
     "text": [
      "Enter something hey how are you?\n"
     ]
    }
   ],
   "source": [
    "e=input(\"Enter something\")"
   ]
  },
  {
   "cell_type": "code",
   "execution_count": 20,
   "id": "14a4bc3c-226c-4266-816f-40b651eb2f1a",
   "metadata": {},
   "outputs": [
    {
     "name": "stdout",
     "output_type": "stream",
     "text": [
      "hey how are you?\n"
     ]
    }
   ],
   "source": [
    "print(e)"
   ]
  },
  {
   "cell_type": "code",
   "execution_count": 22,
   "id": "62d9c170-ff89-46c7-a6a0-747ff2c8c4bb",
   "metadata": {},
   "outputs": [
    {
     "name": "stdin",
     "output_type": "stream",
     "text": [
      "Enter a number: 2\n"
     ]
    }
   ],
   "source": [
    "no=int(input(\"Enter a number:\"))"
   ]
  },
  {
   "cell_type": "code",
   "execution_count": 23,
   "id": "849aa7a7-b85f-4970-afe3-5552cf508150",
   "metadata": {},
   "outputs": [
    {
     "name": "stdin",
     "output_type": "stream",
     "text": [
      "number 90\n"
     ]
    }
   ],
   "source": [
    "uni=input(\"number\")"
   ]
  },
  {
   "cell_type": "code",
   "execution_count": 24,
   "id": "1a53a6bb-ce5b-46c3-8d1d-df9bd1087131",
   "metadata": {},
   "outputs": [
    {
     "data": {
      "text/plain": [
       "str"
      ]
     },
     "execution_count": 24,
     "metadata": {},
     "output_type": "execute_result"
    }
   ],
   "source": [
    "type(uni)"
   ]
  },
  {
   "cell_type": "code",
   "execution_count": 25,
   "id": "75f2349c-22f5-4b10-a79f-bde5a505ae9a",
   "metadata": {},
   "outputs": [
    {
     "data": {
      "text/plain": [
       "90"
      ]
     },
     "execution_count": 25,
     "metadata": {},
     "output_type": "execute_result"
    }
   ],
   "source": [
    "int(uni)"
   ]
  },
  {
   "cell_type": "code",
   "execution_count": 26,
   "id": "77cce139-6a3c-4ed1-bdb2-8b7d99ee8852",
   "metadata": {},
   "outputs": [
    {
     "ename": "TypeError",
     "evalue": "can only concatenate str (not \"int\") to str",
     "output_type": "error",
     "traceback": [
      "\u001b[1;31m---------------------------------------------------------------------------\u001b[0m",
      "\u001b[1;31mTypeError\u001b[0m                                 Traceback (most recent call last)",
      "Cell \u001b[1;32mIn[26], line 1\u001b[0m\n\u001b[1;32m----> 1\u001b[0m \u001b[38;5;28mprint\u001b[39m(\u001b[43muni\u001b[49m\u001b[38;5;241;43m+\u001b[39;49m\u001b[38;5;241;43m23\u001b[39;49m)\n",
      "\u001b[1;31mTypeError\u001b[0m: can only concatenate str (not \"int\") to str"
     ]
    }
   ],
   "source": [
    "print(uni+23)"
   ]
  },
  {
   "cell_type": "code",
   "execution_count": 27,
   "id": "098b1188-dca4-401e-8ad1-9a8cf3aeb4ec",
   "metadata": {},
   "outputs": [],
   "source": [
    "uni=int(uni)"
   ]
  },
  {
   "cell_type": "code",
   "execution_count": 28,
   "id": "e967e373-51b2-4ff9-b451-77c2ef888fb3",
   "metadata": {},
   "outputs": [
    {
     "name": "stdout",
     "output_type": "stream",
     "text": [
      "113\n"
     ]
    }
   ],
   "source": [
    "print(uni+23)"
   ]
  },
  {
   "cell_type": "markdown",
   "id": "8c1e9dcb-5832-41ed-a16e-c87bad451431",
   "metadata": {},
   "source": [
    "# To know the functions"
   ]
  },
  {
   "cell_type": "code",
   "execution_count": 29,
   "id": "e0e537a8-e220-47e6-bd76-80cbc1ef8b82",
   "metadata": {},
   "outputs": [
    {
     "data": {
      "text/plain": [
       "\u001b[1;31mSignature:\u001b[0m \u001b[0mpow\u001b[0m\u001b[1;33m(\u001b[0m\u001b[0mbase\u001b[0m\u001b[1;33m,\u001b[0m \u001b[0mexp\u001b[0m\u001b[1;33m,\u001b[0m \u001b[0mmod\u001b[0m\u001b[1;33m=\u001b[0m\u001b[1;32mNone\u001b[0m\u001b[1;33m)\u001b[0m\u001b[1;33m\u001b[0m\u001b[1;33m\u001b[0m\u001b[0m\n",
       "\u001b[1;31mDocstring:\u001b[0m\n",
       "Equivalent to base**exp with 2 arguments or base**exp % mod with 3 arguments\n",
       "\n",
       "Some types, such as ints, are able to use a more efficient algorithm when\n",
       "invoked using the three argument form.\n",
       "\u001b[1;31mType:\u001b[0m      builtin_function_or_method"
      ]
     },
     "metadata": {},
     "output_type": "display_data"
    }
   ],
   "source": [
    "pow?"
   ]
  },
  {
   "cell_type": "code",
   "execution_count": 30,
   "id": "166f0a51-8703-4dc7-b4f0-655525e37ceb",
   "metadata": {},
   "outputs": [
    {
     "name": "stdout",
     "output_type": "stream",
     "text": [
      "Help on built-in function divmod in module builtins:\n",
      "\n",
      "divmod(x, y, /)\n",
      "    Return the tuple (x//y, x%y).  Invariant: div*y + mod == x.\n",
      "\n"
     ]
    }
   ],
   "source": [
    "help(divmod)"
   ]
  },
  {
   "cell_type": "code",
   "execution_count": 31,
   "id": "28cce369-525d-429e-8f74-9a6d5cd7eae3",
   "metadata": {},
   "outputs": [
    {
     "data": {
      "text/plain": [
       "\u001b[1;31mSignature:\u001b[0m \u001b[0mround\u001b[0m\u001b[1;33m(\u001b[0m\u001b[0mnumber\u001b[0m\u001b[1;33m,\u001b[0m \u001b[0mndigits\u001b[0m\u001b[1;33m=\u001b[0m\u001b[1;32mNone\u001b[0m\u001b[1;33m)\u001b[0m\u001b[1;33m\u001b[0m\u001b[1;33m\u001b[0m\u001b[0m\n",
       "\u001b[1;31mDocstring:\u001b[0m\n",
       "Round a number to a given precision in decimal digits.\n",
       "\n",
       "The return value is an integer if ndigits is omitted or None.  Otherwise\n",
       "the return value has the same type as the number.  ndigits may be negative.\n",
       "\u001b[1;31mType:\u001b[0m      builtin_function_or_method"
      ]
     },
     "metadata": {},
     "output_type": "display_data"
    }
   ],
   "source": [
    "round??"
   ]
  },
  {
   "cell_type": "code",
   "execution_count": null,
   "id": "e759ee08-da9e-4dd8-a642-89277627eb56",
   "metadata": {},
   "outputs": [],
   "source": []
  }
 ],
 "metadata": {
  "kernelspec": {
   "display_name": "Python 3 (ipykernel)",
   "language": "python",
   "name": "python3"
  },
  "language_info": {
   "codemirror_mode": {
    "name": "ipython",
    "version": 3
   },
   "file_extension": ".py",
   "mimetype": "text/x-python",
   "name": "python",
   "nbconvert_exporter": "python",
   "pygments_lexer": "ipython3",
   "version": "3.12.0"
  }
 },
 "nbformat": 4,
 "nbformat_minor": 5
}
