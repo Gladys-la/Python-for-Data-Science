{
 "cells": [
  {
   "cell_type": "markdown",
   "id": "71cf9c2f-4e09-4e40-9510-a974290c33f7",
   "metadata": {},
   "source": [
    "# Own Functions"
   ]
  },
  {
   "cell_type": "code",
   "execution_count": 3,
   "id": "ca7cff84-c9af-45bc-92a2-47e66ae77260",
   "metadata": {},
   "outputs": [
    {
     "name": "stdout",
     "output_type": "stream",
     "text": [
      "Change of work is rest\n",
      "Said by a wise man\n",
      "Sorry a woman\n"
     ]
    }
   ],
   "source": [
    "def rest():\n",
    "    print('Change of work is rest')\n",
    "    print(\"Said by a wise man\")\n",
    "    print(\"Sorry a woman\")\n",
    "rest()"
   ]
  },
  {
   "cell_type": "code",
   "execution_count": 7,
   "id": "9d69197b-7c6b-475d-bd8d-7e5743920109",
   "metadata": {},
   "outputs": [
    {
     "name": "stdin",
     "output_type": "stream",
     "text": [
      " 949\n",
      " 3894\n"
     ]
    },
    {
     "name": "stdout",
     "output_type": "stream",
     "text": [
      "2896.0\n",
      "Change of work is rest\n",
      "Said by a wise man\n",
      "Sorry a woman\n"
     ]
    }
   ],
   "source": [
    "def Work():\n",
    "    no1=int(input())\n",
    "    no2=int(input())\n",
    "    eff=no1+no2/2\n",
    "    print (eff)\n",
    "Work()\n",
    "rest()\n"
   ]
  },
  {
   "cell_type": "markdown",
   "id": "0dc413c7-b214-4b2c-af52-08d48d044314",
   "metadata": {},
   "source": [
    "# Doc String"
   ]
  },
  {
   "cell_type": "code",
   "execution_count": 9,
   "id": "9e376cbf-767f-4986-95eb-32feeb56b9cb",
   "metadata": {},
   "outputs": [
    {
     "name": "stdout",
     "output_type": "stream",
     "text": [
      "Hello\n"
     ]
    }
   ],
   "source": [
    "def pillo():\n",
    "    \"\"\" This function does nothing\n",
    "    \"\"\"\n",
    "    print('Hello')\n",
    "pillo()"
   ]
  },
  {
   "cell_type": "code",
   "execution_count": 10,
   "id": "ec10c47d-32ba-423e-8305-6d2ea21fb385",
   "metadata": {},
   "outputs": [
    {
     "data": {
      "text/plain": [
       "\u001b[1;31mSignature:\u001b[0m \u001b[0mpillo\u001b[0m\u001b[1;33m(\u001b[0m\u001b[1;33m)\u001b[0m\u001b[1;33m\u001b[0m\u001b[1;33m\u001b[0m\u001b[0m\n",
       "\u001b[1;31mDocstring:\u001b[0m\n",
       "This function does nothing\n",
       "    \n",
       "\u001b[1;31mFile:\u001b[0m      c:\\users\\proventus\\appdata\\local\\temp\\ipykernel_5880\\2719492230.py\n",
       "\u001b[1;31mType:\u001b[0m      function"
      ]
     },
     "metadata": {},
     "output_type": "display_data"
    }
   ],
   "source": [
    "pillo?"
   ]
  },
  {
   "cell_type": "code",
   "execution_count": 11,
   "id": "d27a9bfc-325b-44a7-8be9-cbff07c6d8d3",
   "metadata": {},
   "outputs": [
    {
     "data": {
      "text/plain": [
       "\u001b[1;31mSignature:\u001b[0m \u001b[0mpillo\u001b[0m\u001b[1;33m(\u001b[0m\u001b[1;33m)\u001b[0m\u001b[1;33m\u001b[0m\u001b[1;33m\u001b[0m\u001b[0m\n",
       "\u001b[1;31mSource:\u001b[0m   \n",
       "\u001b[1;32mdef\u001b[0m \u001b[0mpillo\u001b[0m\u001b[1;33m(\u001b[0m\u001b[1;33m)\u001b[0m\u001b[1;33m:\u001b[0m\u001b[1;33m\n",
       "\u001b[0m    \u001b[1;34m\"\"\" This function does nothing\n",
       "    \"\"\"\u001b[0m\u001b[1;33m\n",
       "\u001b[0m    \u001b[0mprint\u001b[0m\u001b[1;33m(\u001b[0m\u001b[1;34m'Hello'\u001b[0m\u001b[1;33m)\u001b[0m\u001b[1;33m\u001b[0m\u001b[1;33m\u001b[0m\u001b[0m\n",
       "\u001b[1;31mFile:\u001b[0m      c:\\users\\proventus\\appdata\\local\\temp\\ipykernel_5880\\2719492230.py\n",
       "\u001b[1;31mType:\u001b[0m      function"
      ]
     },
     "metadata": {},
     "output_type": "display_data"
    }
   ],
   "source": [
    "pillo??"
   ]
  },
  {
   "cell_type": "code",
   "execution_count": 12,
   "id": "5ca1592f-81da-4276-9243-3cfe0376c065",
   "metadata": {},
   "outputs": [],
   "source": [
    "def Msg(msg):\n",
    "    if isinstance(msg,str):\n",
    "        print(msg)\n",
    "    else:\n",
    "        print('This is not a spring',msg)"
   ]
  },
  {
   "cell_type": "code",
   "execution_count": 14,
   "id": "05f3a950-fd5a-457b-b76a-36e22042a960",
   "metadata": {},
   "outputs": [
    {
     "name": "stdout",
     "output_type": "stream",
     "text": [
      "Help on function Msg in module __main__:\n",
      "\n",
      "Msg(msg)\n",
      "\n"
     ]
    }
   ],
   "source": [
    "help(Msg)"
   ]
  },
  {
   "cell_type": "code",
   "execution_count": 15,
   "id": "60baa0a6-fe8a-4665-acc9-9d8d21dd05e0",
   "metadata": {},
   "outputs": [
    {
     "data": {
      "text/plain": [
       "\u001b[1;31mSignature:\u001b[0m \u001b[0mMsg\u001b[0m\u001b[1;33m(\u001b[0m\u001b[0mmsg\u001b[0m\u001b[1;33m)\u001b[0m\u001b[1;33m\u001b[0m\u001b[1;33m\u001b[0m\u001b[0m\n",
       "\u001b[1;31mDocstring:\u001b[0m <no docstring>\n",
       "\u001b[1;31mFile:\u001b[0m      c:\\users\\proventus\\appdata\\local\\temp\\ipykernel_5880\\3450617275.py\n",
       "\u001b[1;31mType:\u001b[0m      function"
      ]
     },
     "metadata": {},
     "output_type": "display_data"
    }
   ],
   "source": [
    "Msg?\n"
   ]
  },
  {
   "cell_type": "code",
   "execution_count": 16,
   "id": "16743ca1-4e29-457a-b2ef-ec116c257f42",
   "metadata": {},
   "outputs": [
    {
     "data": {
      "text/plain": [
       "\u001b[1;31mSignature:\u001b[0m \u001b[0mMsg\u001b[0m\u001b[1;33m(\u001b[0m\u001b[0mmsg\u001b[0m\u001b[1;33m)\u001b[0m\u001b[1;33m\u001b[0m\u001b[1;33m\u001b[0m\u001b[0m\n",
       "\u001b[1;31mDocstring:\u001b[0m <no docstring>\n",
       "\u001b[1;31mSource:\u001b[0m   \n",
       "\u001b[1;32mdef\u001b[0m \u001b[0mMsg\u001b[0m\u001b[1;33m(\u001b[0m\u001b[0mmsg\u001b[0m\u001b[1;33m)\u001b[0m\u001b[1;33m:\u001b[0m\u001b[1;33m\n",
       "\u001b[0m    \u001b[1;32mif\u001b[0m \u001b[0misinstance\u001b[0m\u001b[1;33m(\u001b[0m\u001b[0mmsg\u001b[0m\u001b[1;33m,\u001b[0m\u001b[0mstr\u001b[0m\u001b[1;33m)\u001b[0m\u001b[1;33m:\u001b[0m\u001b[1;33m\n",
       "\u001b[0m        \u001b[0mprint\u001b[0m\u001b[1;33m(\u001b[0m\u001b[0mmsg\u001b[0m\u001b[1;33m)\u001b[0m\u001b[1;33m\n",
       "\u001b[0m    \u001b[1;32melse\u001b[0m\u001b[1;33m:\u001b[0m\u001b[1;33m\n",
       "\u001b[0m        \u001b[0mprint\u001b[0m\u001b[1;33m(\u001b[0m\u001b[1;34m'This is not a spring'\u001b[0m\u001b[1;33m)\u001b[0m\u001b[1;33m\u001b[0m\u001b[1;33m\u001b[0m\u001b[0m\n",
       "\u001b[1;31mFile:\u001b[0m      c:\\users\\proventus\\appdata\\local\\temp\\ipykernel_5880\\3450617275.py\n",
       "\u001b[1;31mType:\u001b[0m      function"
      ]
     },
     "metadata": {},
     "output_type": "display_data"
    }
   ],
   "source": [
    "Msg??"
   ]
  },
  {
   "cell_type": "code",
   "execution_count": 17,
   "id": "501129a1-26d0-4b34-8fb6-e1f06b46953d",
   "metadata": {},
   "outputs": [
    {
     "name": "stdout",
     "output_type": "stream",
     "text": [
      "Hi There\n"
     ]
    }
   ],
   "source": [
    "Msg(\"Hi There\")"
   ]
  },
  {
   "cell_type": "code",
   "execution_count": 18,
   "id": "c18a3efb-6d5f-435b-b6b0-2df0a0bf77c1",
   "metadata": {},
   "outputs": [
    {
     "name": "stdout",
     "output_type": "stream",
     "text": [
      "This is not a spring\n"
     ]
    }
   ],
   "source": [
    "Msg(24)"
   ]
  },
  {
   "cell_type": "code",
   "execution_count": 19,
   "id": "dfaccc46-f13d-4569-8af6-eefad9c858bc",
   "metadata": {},
   "outputs": [],
   "source": [
    "def power(a,b):\n",
    "    c=a**b\n",
    "    print(c)"
   ]
  },
  {
   "cell_type": "code",
   "execution_count": 20,
   "id": "b34a112a-efe2-4f42-b07e-4613efea7ed4",
   "metadata": {},
   "outputs": [
    {
     "name": "stdout",
     "output_type": "stream",
     "text": [
      "19683\n"
     ]
    }
   ],
   "source": [
    "power(3,9)"
   ]
  },
  {
   "cell_type": "code",
   "execution_count": 27,
   "id": "8f81858c-bfb0-4b23-8787-a1ab95de2e04",
   "metadata": {},
   "outputs": [],
   "source": [
    "def checkArgs(a,b,c):\n",
    "    if isinstance(a,(int,float)) and isinstance(b,(int,float)) and isinstance(c,(int,float)):\n",
    "        print(a*b/c)\n",
    "    else:\n",
    "        print(\"Type Error\")"
   ]
  },
  {
   "cell_type": "code",
   "execution_count": 28,
   "id": "6ab1b5b4-3fd0-4a23-936f-3748ac0ab4e1",
   "metadata": {},
   "outputs": [
    {
     "name": "stdout",
     "output_type": "stream",
     "text": [
      "18.4\n"
     ]
    }
   ],
   "source": [
    "checkArgs(23,4,5)"
   ]
  },
  {
   "cell_type": "code",
   "execution_count": 32,
   "id": "6102d511-7046-4ab8-a205-7d24dcac4266",
   "metadata": {},
   "outputs": [
    {
     "name": "stdout",
     "output_type": "stream",
     "text": [
      "Type Error\n"
     ]
    }
   ],
   "source": [
    "checkArgs(2,4,\"h\")"
   ]
  },
  {
   "cell_type": "markdown",
   "id": "bf0b3762-22f2-4b63-8c7c-51a444e8f727",
   "metadata": {},
   "source": [
    "# Return Statement"
   ]
  },
  {
   "cell_type": "code",
   "execution_count": 33,
   "id": "7d83c85a-365b-47a7-92fb-da10e1da9eca",
   "metadata": {},
   "outputs": [],
   "source": [
    "def Hey(x,y):\n",
    "    z=x+y\n",
    "    return z\n",
    "    "
   ]
  },
  {
   "cell_type": "code",
   "execution_count": 34,
   "id": "f5b67a8c-e6cb-4405-876c-fda7ac22c6b5",
   "metadata": {},
   "outputs": [
    {
     "name": "stdout",
     "output_type": "stream",
     "text": [
      "129\n"
     ]
    }
   ],
   "source": [
    "Hi=Hey(34,95)\n",
    "print(Hi)\n"
   ]
  },
  {
   "cell_type": "code",
   "execution_count": 35,
   "id": "18272aa9-3a5b-4a61-915b-fc0d839baa4d",
   "metadata": {},
   "outputs": [],
   "source": [
    "def nah():\n",
    "    print(\"gag\")\n",
    "    a=78\n",
    "    b=34\n",
    "    c=a+b\n",
    "    print('happy')\n",
    "    return\n",
    "    print('HELLO')"
   ]
  },
  {
   "cell_type": "code",
   "execution_count": 36,
   "id": "9dc1c78e-2b04-4da9-afd4-a868eae0ff76",
   "metadata": {},
   "outputs": [
    {
     "name": "stdout",
     "output_type": "stream",
     "text": [
      "gag\n",
      "happy\n"
     ]
    }
   ],
   "source": [
    "nah()"
   ]
  },
  {
   "cell_type": "code",
   "execution_count": 40,
   "id": "18f085fc-fd07-4a4f-a230-c8b4c888b7ea",
   "metadata": {},
   "outputs": [],
   "source": [
    "def nah():\n",
    "    print(\"gag\")\n",
    "    a=78\n",
    "    b=34\n",
    "    c=a+b\n",
    "    print('happy')\n",
    "    return c\n",
    "    print('HELLO')"
   ]
  },
  {
   "cell_type": "code",
   "execution_count": 41,
   "id": "61be606f-4a3e-42c1-8a98-0eb7e3f076a2",
   "metadata": {},
   "outputs": [
    {
     "name": "stdout",
     "output_type": "stream",
     "text": [
      "gag\n",
      "happy\n"
     ]
    },
    {
     "data": {
      "text/plain": [
       "112"
      ]
     },
     "execution_count": 41,
     "metadata": {},
     "output_type": "execute_result"
    }
   ],
   "source": [
    "nah()"
   ]
  },
  {
   "cell_type": "code",
   "execution_count": 42,
   "id": "77819fa2-1fe3-4db4-ab76-59e59caba8f9",
   "metadata": {},
   "outputs": [
    {
     "name": "stdout",
     "output_type": "stream",
     "text": [
      "gag\n",
      "happy\n",
      "<class 'int'>\n"
     ]
    }
   ],
   "source": [
    "print(type(nah()))"
   ]
  },
  {
   "cell_type": "code",
   "execution_count": 43,
   "id": "83622567-2bd1-4905-8fb2-9df8cf5a331e",
   "metadata": {},
   "outputs": [],
   "source": [
    "def nah():\n",
    "    print(\"gag\")\n",
    "    a=78\n",
    "    b=34\n",
    "    c=a+b\n",
    "    print('happy')\n",
    "    return \n",
    "    print('HELLO')"
   ]
  },
  {
   "cell_type": "code",
   "execution_count": 45,
   "id": "df37c797-25c9-49c6-b287-652d43b7903a",
   "metadata": {},
   "outputs": [
    {
     "name": "stdout",
     "output_type": "stream",
     "text": [
      "gag\n",
      "happy\n",
      "<class 'NoneType'>\n"
     ]
    }
   ],
   "source": [
    "print(type(nah()))"
   ]
  },
  {
   "cell_type": "code",
   "execution_count": 46,
   "id": "bc359bf2-e4c5-4148-93a2-e48df8d19538",
   "metadata": {},
   "outputs": [],
   "source": [
    "def guy():\n",
    "    a=3\n",
    "    b=74\n",
    "    c=24\n",
    "    d=\"Sad\"\n",
    "    return a,b,c,d\n",
    "    "
   ]
  },
  {
   "cell_type": "code",
   "execution_count": 49,
   "id": "49762bc3-9733-49e5-9c36-5d844d3a6cc4",
   "metadata": {},
   "outputs": [
    {
     "name": "stdout",
     "output_type": "stream",
     "text": [
      "3 74 24 Sad\n"
     ]
    }
   ],
   "source": [
    "x,y,z,w=guy()\n",
    "print(x,y,z,w)"
   ]
  },
  {
   "cell_type": "markdown",
   "id": "de0728d9-a56a-41b3-868b-b85c10b7876e",
   "metadata": {},
   "source": [
    "# Functions(Variable Number of Input arguments)"
   ]
  },
  {
   "cell_type": "code",
   "execution_count": 50,
   "id": "d5423957-7ebe-4744-ad03-f4d653d7e93a",
   "metadata": {},
   "outputs": [],
   "source": [
    "def add(*args):\n",
    "    sum=0\n",
    "    for i in range(len(args)):\n",
    "        sum+=args[i]\n",
    "    return sum"
   ]
  },
  {
   "cell_type": "code",
   "execution_count": 51,
   "id": "c92a647a-5098-446e-959a-57bf694f60cf",
   "metadata": {},
   "outputs": [
    {
     "name": "stdout",
     "output_type": "stream",
     "text": [
      "144\n"
     ]
    }
   ],
   "source": [
    "f=add(23,43,43,33,2)\n",
    "print(f)"
   ]
  },
  {
   "cell_type": "code",
   "execution_count": 72,
   "id": "cc028c32-2566-449e-9572-aaf93b261a81",
   "metadata": {},
   "outputs": [],
   "source": [
    "def multiply(*star):\n",
    "    multiply=1\n",
    "    for i in range(len(star)):\n",
    "        multiply*=star[i]\n",
    "    return multiply "
   ]
  },
  {
   "cell_type": "code",
   "execution_count": 73,
   "id": "5380f873-8f31-442a-a0b7-662cc36e1a05",
   "metadata": {},
   "outputs": [
    {
     "name": "stdout",
     "output_type": "stream",
     "text": [
      "7038.0\n"
     ]
    }
   ],
   "source": [
    "print(multiply(34.5,34,6))"
   ]
  },
  {
   "cell_type": "code",
   "execution_count": 74,
   "id": "85d2803a-deca-44cc-8b11-ce483801c4e2",
   "metadata": {},
   "outputs": [],
   "source": [
    "def addon(**c):\n",
    "    for x in c:\n",
    "        print(\"Variable Name is:\",x ,\"And Value is:\",c[x])\n",
    "        "
   ]
  },
  {
   "cell_type": "code",
   "execution_count": 75,
   "id": "85953bac-bdb0-4a7f-b9a3-659dfc063a23",
   "metadata": {},
   "outputs": [
    {
     "name": "stdout",
     "output_type": "stream",
     "text": [
      "Variable Name is: a And Value is: 3\n",
      "Variable Name is: nah And Value is: hype\n",
      "Variable Name is: b And Value is: 23\n",
      "None\n"
     ]
    }
   ],
   "source": [
    "print(addon(a=3,nah=\"hype\",b=23))"
   ]
  },
  {
   "cell_type": "markdown",
   "id": "65437e89-348a-4903-b965-a7e18ad9dc34",
   "metadata": {},
   "source": [
    "# Functions-Default Values"
   ]
  },
  {
   "cell_type": "code",
   "execution_count": 76,
   "id": "7dec09f1-df75-4d0f-bd5c-e55c48e6ed2c",
   "metadata": {},
   "outputs": [],
   "source": [
    "def gg():\n",
    "    a=24\n",
    "    b=a\n",
    "    print(b)"
   ]
  },
  {
   "cell_type": "code",
   "execution_count": 77,
   "id": "383e5870-f1b7-4022-aaa0-3f2dca2c4a71",
   "metadata": {},
   "outputs": [
    {
     "name": "stdout",
     "output_type": "stream",
     "text": [
      "24\n"
     ]
    }
   ],
   "source": [
    "gg()"
   ]
  },
  {
   "cell_type": "code",
   "execution_count": 78,
   "id": "16a52575-9996-4c0f-b942-2de768a9d811",
   "metadata": {},
   "outputs": [
    {
     "ename": "TypeError",
     "evalue": "gg() takes 0 positional arguments but 1 was given",
     "output_type": "error",
     "traceback": [
      "\u001b[1;31m---------------------------------------------------------------------------\u001b[0m",
      "\u001b[1;31mTypeError\u001b[0m                                 Traceback (most recent call last)",
      "Cell \u001b[1;32mIn[78], line 1\u001b[0m\n\u001b[1;32m----> 1\u001b[0m \u001b[43mgg\u001b[49m\u001b[43m(\u001b[49m\u001b[38;5;241;43m6\u001b[39;49m\u001b[43m)\u001b[49m\n",
      "\u001b[1;31mTypeError\u001b[0m: gg() takes 0 positional arguments but 1 was given"
     ]
    }
   ],
   "source": [
    "gg()"
   ]
  },
  {
   "cell_type": "code",
   "execution_count": 79,
   "id": "9ba0c635-a748-4e53-97f1-6fa86bd31223",
   "metadata": {},
   "outputs": [
    {
     "name": "stdout",
     "output_type": "stream",
     "text": [
      "78\n"
     ]
    }
   ],
   "source": [
    "def ga(a=78):\n",
    "    print(a)\n",
    "ga()"
   ]
  },
  {
   "cell_type": "code",
   "execution_count": 80,
   "id": "fc7feff8-764e-42a8-89d5-c7d0f2e64ce0",
   "metadata": {},
   "outputs": [
    {
     "name": "stdout",
     "output_type": "stream",
     "text": [
      "7563\n"
     ]
    }
   ],
   "source": [
    "ga(7563)"
   ]
  },
  {
   "cell_type": "code",
   "execution_count": 88,
   "id": "e6626905-d715-4d91-9e2b-bf3f99bab5fb",
   "metadata": {},
   "outputs": [],
   "source": [
    "F2=[2,43,4]\n",
    "def ff(F1=[1,2,3]):\n",
    "    for i in F1:\n",
    "        print(i)\n",
    "        "
   ]
  },
  {
   "cell_type": "code",
   "execution_count": 87,
   "id": "df229741-beb3-40d5-b423-255afa0b0956",
   "metadata": {},
   "outputs": [
    {
     "name": "stdout",
     "output_type": "stream",
     "text": [
      "1\n",
      "2\n",
      "3\n"
     ]
    }
   ],
   "source": [
    "ff()"
   ]
  },
  {
   "cell_type": "code",
   "execution_count": 89,
   "id": "a1b52416-c5a1-44c8-afa4-856ab5c2f68f",
   "metadata": {},
   "outputs": [
    {
     "name": "stdout",
     "output_type": "stream",
     "text": [
      "2\n",
      "43\n",
      "4\n"
     ]
    }
   ],
   "source": [
    "ff(F2)"
   ]
  },
  {
   "cell_type": "code",
   "execution_count": null,
   "id": "0c20be08-0b98-44a6-8a2c-ceecb7239d6e",
   "metadata": {},
   "outputs": [],
   "source": []
  }
 ],
 "metadata": {
  "kernelspec": {
   "display_name": "Python 3 (ipykernel)",
   "language": "python",
   "name": "python3"
  },
  "language_info": {
   "codemirror_mode": {
    "name": "ipython",
    "version": 3
   },
   "file_extension": ".py",
   "mimetype": "text/x-python",
   "name": "python",
   "nbconvert_exporter": "python",
   "pygments_lexer": "ipython3",
   "version": "3.12.0"
  }
 },
 "nbformat": 4,
 "nbformat_minor": 5
}
