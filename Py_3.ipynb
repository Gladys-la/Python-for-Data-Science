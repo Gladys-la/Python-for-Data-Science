{
 "cells": [
  {
   "cell_type": "markdown",
   "id": "5f95da58-766d-432b-b90a-1d08e186420d",
   "metadata": {},
   "source": [
    "# Conditionals"
   ]
  },
  {
   "cell_type": "markdown",
   "id": "789caaed-77e6-4b8a-a6ea-9116db865a5c",
   "metadata": {},
   "source": [
    "# If"
   ]
  },
  {
   "cell_type": "markdown",
   "id": "1c0bb91d-c77c-4638-a8c1-2f682dc9d616",
   "metadata": {},
   "source": [
    "a=int(input(\"Enter a number:\"))\n",
    "b=int(input(\"Enter a numer:\"))\n",
    "if a>b:\n",
    "      print(a)"
   ]
  },
  {
   "cell_type": "markdown",
   "id": "57f440a5-2ae8-4e78-95ae-d8f381fce852",
   "metadata": {},
   "source": [
    "# If- Else"
   ]
  },
  {
   "cell_type": "code",
   "execution_count": 35,
   "id": "2be54991-caad-45dc-aa0e-952448198334",
   "metadata": {},
   "outputs": [
    {
     "name": "stdin",
     "output_type": "stream",
     "text": [
      " 23\n",
      " 32\n"
     ]
    },
    {
     "name": "stdout",
     "output_type": "stream",
     "text": [
      "32\n",
      "Hey,Whatsup!\n"
     ]
    }
   ],
   "source": [
    "q=int(input())\n",
    "p=int(input())\n",
    "if p>=q:\n",
    "    print(p)\n",
    "    print(\"Hey,Whatsup!\")\n",
    "else:\n",
    "    print(q)\n",
    "    print('nope!')"
   ]
  },
  {
   "cell_type": "markdown",
   "id": "72f9e9bf-836e-483e-88da-ea0b79aaf46e",
   "metadata": {},
   "source": [
    "# If-Elif-Else"
   ]
  },
  {
   "cell_type": "code",
   "execution_count": 40,
   "id": "d5eebbd5-7fbb-49be-b9a6-4a5939de9bf5",
   "metadata": {},
   "outputs": [
    {
     "name": "stdin",
     "output_type": "stream",
     "text": [
      " 74\n",
      " 56\n"
     ]
    },
    {
     "name": "stdout",
     "output_type": "stream",
     "text": [
      "56 Oops!\n"
     ]
    }
   ],
   "source": [
    "a=float(input())\n",
    "b=int(input())\n",
    "if a<b:\n",
    "    print(a,\"Hello\")\n",
    "elif a==b:\n",
    "    print(a,b,\"Heya!\")\n",
    "else:\n",
    "    print(b,\"Oops!\")"
   ]
  },
  {
   "cell_type": "markdown",
   "id": "fb2d56f4-816e-4e47-b95c-d2e8e1157083",
   "metadata": {},
   "source": [
    "# Shorthand if"
   ]
  },
  {
   "cell_type": "code",
   "execution_count": 41,
   "id": "de2c822c-3fe7-43af-906a-44e71b5a9e69",
   "metadata": {},
   "outputs": [
    {
     "name": "stdin",
     "output_type": "stream",
     "text": [
      " 64\n",
      " 95\n"
     ]
    },
    {
     "name": "stdout",
     "output_type": "stream",
     "text": [
      "95\n"
     ]
    }
   ],
   "source": [
    "a=int(input())\n",
    "b=int(input())\n",
    "print(a) if a>b else print(b)"
   ]
  },
  {
   "cell_type": "markdown",
   "id": "6f88a437-af1e-4fc8-b725-db9631adc78f",
   "metadata": {},
   "source": [
    "# Nested If"
   ]
  },
  {
   "cell_type": "code",
   "execution_count": 42,
   "id": "68a60724-6720-4dc6-bb5b-8dd7bc217221",
   "metadata": {},
   "outputs": [
    {
     "name": "stdout",
     "output_type": "stream",
     "text": [
      "hey\n",
      "hi\n"
     ]
    }
   ],
   "source": [
    "a=89\n",
    "b=980\n",
    "if a<b:\n",
    "    print(\"hey\")\n",
    "    if a>29:\n",
    "        print(\"hi\")\n",
    "else:\n",
    "    print(\"bruh\")"
   ]
  },
  {
   "cell_type": "markdown",
   "id": "264eaabc-7b17-4d32-9614-317d628b803a",
   "metadata": {},
   "source": [
    "# Comment"
   ]
  },
  {
   "cell_type": "code",
   "execution_count": 54,
   "id": "4c89928f-bf9c-4e3f-b92e-6631f6f089bf",
   "metadata": {},
   "outputs": [
    {
     "name": "stdout",
     "output_type": "stream",
     "text": [
      "hey\n"
     ]
    }
   ],
   "source": [
    "#This is a single line comment\n",
    "print(\"hey\")\n"
   ]
  },
  {
   "cell_type": "code",
   "execution_count": 55,
   "id": "6e10f1a7-f0a9-42c1-93fc-9ed8265b6a1f",
   "metadata": {},
   "outputs": [
    {
     "data": {
      "text/plain": [
       "'i am commenting'"
      ]
     },
     "execution_count": 55,
     "metadata": {},
     "output_type": "execute_result"
    }
   ],
   "source": [
    "'''i am commenting'''"
   ]
  },
  {
   "cell_type": "markdown",
   "id": "2c08a063-fe4e-4082-8a99-ff03488e7f6e",
   "metadata": {},
   "source": [
    "# Loops"
   ]
  },
  {
   "cell_type": "markdown",
   "id": "9601738c-5ffe-4627-8a79-f504971e48bb",
   "metadata": {},
   "source": [
    "# while"
   ]
  },
  {
   "cell_type": "code",
   "execution_count": 58,
   "id": "fea39dce-a447-45a9-ae22-be56fa5079b4",
   "metadata": {},
   "outputs": [
    {
     "name": "stdin",
     "output_type": "stream",
     "text": [
      " 7\n"
     ]
    },
    {
     "name": "stdout",
     "output_type": "stream",
     "text": [
      "8\n",
      "done\n",
      "8\n",
      "done\n",
      "8\n",
      "done\n"
     ]
    }
   ],
   "source": [
    "a=int(input())\n",
    "i=4\n",
    "while a>i:\n",
    "    print(a+1)\n",
    "    i+=1\n",
    "    print(\"done\")"
   ]
  },
  {
   "cell_type": "code",
   "execution_count": 63,
   "id": "b8cd9c98-04de-4bfa-a73a-f34d5a690e8c",
   "metadata": {},
   "outputs": [
    {
     "name": "stdin",
     "output_type": "stream",
     "text": [
      " 3\n"
     ]
    },
    {
     "name": "stdout",
     "output_type": "stream",
     "text": [
      "done\n"
     ]
    }
   ],
   "source": [
    "n=int(input())\n",
    "i=1\n",
    "while i<n:\n",
    "    if i%2==0:\n",
    "        print(i)\n",
    "    else:\n",
    "        pass\n",
    "    i+=5\n",
    "print('done')"
   ]
  },
  {
   "cell_type": "markdown",
   "id": "cff40389-f3e3-4641-a7b2-b0779bb5216c",
   "metadata": {},
   "source": [
    "# Loops: Break, Continue"
   ]
  },
  {
   "cell_type": "code",
   "execution_count": 69,
   "id": "f35537bf-8aeb-4aad-882c-d5762f255de8",
   "metadata": {},
   "outputs": [
    {
     "name": "stdout",
     "output_type": "stream",
     "text": [
      "break\n",
      "done\n"
     ]
    }
   ],
   "source": [
    "i=1\n",
    "while True:\n",
    "    if i%17==0:\n",
    "        print('break')\n",
    "        break\n",
    "    else:\n",
    "        i+=1\n",
    "        continue\n",
    "print(\"done\")\n",
    "    "
   ]
  },
  {
   "cell_type": "code",
   "execution_count": 70,
   "id": "d369b786-0666-44e2-a4d1-4ee6431ed034",
   "metadata": {},
   "outputs": [
    {
     "name": "stdout",
     "output_type": "stream",
     "text": [
      "NO\n",
      "NO\n",
      "NO\n",
      "NO\n",
      "NO\n",
      "NO\n",
      "NO\n",
      "NO\n",
      "Yes\n",
      "done\n"
     ]
    }
   ],
   "source": [
    "n=10\n",
    "i=1\n",
    "while True:\n",
    "    if i%9==0:\n",
    "        print(\"Yes\")\n",
    "        break\n",
    "    else:\n",
    "        print(\"NO\")\n",
    "        i=i+1\n",
    "print(\"done\")"
   ]
  },
  {
   "cell_type": "markdown",
   "id": "8e0545dd-ad4b-4075-9dd8-cbb79d390120",
   "metadata": {},
   "source": [
    "# for"
   ]
  },
  {
   "cell_type": "code",
   "execution_count": 72,
   "id": "b61e09ac-fabe-4246-903a-f3914403b691",
   "metadata": {},
   "outputs": [
    {
     "name": "stdout",
     "output_type": "stream",
     "text": [
      "1\n",
      "2\n",
      "3\n",
      "4\n",
      "5\n",
      "6\n",
      "7\n",
      "8\n",
      "9\n",
      "10\n",
      "[0, 1, 4, 9, 16, 25, 36, 49, 64, 81]\n"
     ]
    }
   ],
   "source": [
    "List=[]\n",
    "for i in range(10):\n",
    "    print(i+1)\n",
    "    List.append(i**2)\n",
    "print(List)\n",
    "    "
   ]
  },
  {
   "cell_type": "code",
   "execution_count": 75,
   "id": "0763d7eb-3013-4c19-9fca-4684de08c14d",
   "metadata": {},
   "outputs": [
    {
     "name": "stdout",
     "output_type": "stream",
     "text": [
      "good\n",
      "good\n",
      "good\n",
      "goodgood\n"
     ]
    }
   ],
   "source": [
    " ab={\"ban\",\"ball\",\"now\"}\n",
    "for ball in ab:\n",
    "    print(\"good\")\n",
    "    i+=1\n",
    "    if i==3:\n",
    "        break\n",
    "    else:\n",
    "        pass\n",
    "else:\n",
    "    print(\"goodgood\")\n"
   ]
  },
  {
   "cell_type": "code",
   "execution_count": null,
   "id": "f3110697-ba4d-41ca-a12b-4709700dc2e5",
   "metadata": {},
   "outputs": [],
   "source": []
  }
 ],
 "metadata": {
  "kernelspec": {
   "display_name": "Python 3 (ipykernel)",
   "language": "python",
   "name": "python3"
  },
  "language_info": {
   "codemirror_mode": {
    "name": "ipython",
    "version": 3
   },
   "file_extension": ".py",
   "mimetype": "text/x-python",
   "name": "python",
   "nbconvert_exporter": "python",
   "pygments_lexer": "ipython3",
   "version": "3.12.0"
  }
 },
 "nbformat": 4,
 "nbformat_minor": 5
}
